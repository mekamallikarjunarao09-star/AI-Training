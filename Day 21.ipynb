{
 "cells": [
  {
   "cell_type": "code",
   "execution_count": 6,
   "id": "e8bb0b16",
   "metadata": {},
   "outputs": [
    {
     "name": "stdout",
     "output_type": "stream",
     "text": [
      "nirnjn added to the queue.\n",
      "Akash added to the queue.\n",
      "nirnjn\n",
      "Akash\n",
      "No customers \n"
     ]
    }
   ],
   "source": [
    "#Assignment\n",
    "\n",
    "# Q1. Bank Token System (Queue Problem)\n",
    "# Scenario:\n",
    "# You are managing a bank counter.\n",
    "# Each customer takes a token and waits in line.\n",
    "# The bank serves customers in the order they arrive.\n",
    "# 🔧 Task:\n",
    "# Implement a BankQueue class with:\n",
    "# •\tadd_customer(name)\n",
    "# •\tserve_customer() – returns the name of the next customer\n",
    "# •\tis_empty()yyg\n",
    "# Hint: Use a queue (FIFO) to manage customers.\n",
    "\n",
    "class bank:\n",
    "    def __init__(self):\n",
    "        self.queue = []\n",
    "\n",
    "    def add_customer(self, name):\n",
    "        self.queue.append(name)\n",
    "        print(f\"{name} added to the queue.\")\n",
    "\n",
    "    def serve_customer(self):\n",
    "        if self.is_empty():\n",
    "            return \"No customers \"\n",
    "        return self.queue.pop(0)\n",
    "\n",
    "    def is_empty(self):\n",
    "        return len(self.queue) == 0\n",
    "\n",
    "b = bank()\n",
    "b.add_customer(\"nirnjn\")\n",
    "b.add_customer(\"Akash\")\n",
    "\n",
    "print( b.serve_customer()) \n",
    "print( b.serve_customer()) \n",
    "print( b.serve_customer())"
   ]
  },
  {
   "cell_type": "code",
   "execution_count": 7,
   "id": "ddb82968",
   "metadata": {},
   "outputs": [
    {
     "name": "stdout",
     "output_type": "stream",
     "text": [
      "16\n"
     ]
    }
   ],
   "source": [
    "# Q2. Evaluate Postfix Expression (Stack)\n",
    "# Scenario:\n",
    "# You are building a calculator that evaluates expressions like:\n",
    "# \"5 3 + 2 *\" → (5 + 3) * 2 = 16\n",
    "# Task:\n",
    "# Write a function evaluate_postfix(expr: str) that returns the result.++-+-------------------------------------------------------------------------------------------+-----------------------------------------------------------------------------------------------------------------------------------------------------------------------------------++++------------------------------------------------------------------------------+++++++++++++++++++-----\n",
    "# Example:\n",
    "# Input: \"5 3 + 2 *\"\n",
    "# Output: 16\n",
    "# Hint: Use a stack. Push numbers, pop 2 on operator, compute and push result.\n",
    "\n",
    "def evaluate_postfix(expr: str):\n",
    "    stack = []\n",
    "    tokens = expr.split()\n",
    "\n",
    "    for token in tokens:\n",
    "        if token.isdigit():\n",
    "            stack.append(int(token))\n",
    "        else:\n",
    "            b = stack.pop()\n",
    "            a = stack.pop()\n",
    "            \n",
    "            if token == '+':\n",
    "                result = a + b\n",
    "            elif token == '-':\n",
    "                result = a - b\n",
    "            elif token == '*':\n",
    "                result = a * b\n",
    "            elif token == '/':\n",
    "                result = a // b \n",
    "            else:\n",
    "                return \"Invalid operator\"\n",
    "            \n",
    "            stack.append(result) \n",
    "\n",
    "    return stack.pop() if stack else \"Invalid expression\"\n",
    "\n",
    "# Use normal spaces in the input string\n",
    "print(evaluate_postfix(\"5 3 + 2 *\"))"
   ]
  },
  {
   "cell_type": "code",
   "execution_count": 8,
   "id": "3453ee15",
   "metadata": {},
   "outputs": [
    {
     "name": "stdout",
     "output_type": "stream",
     "text": [
      "Dosa Ready\n",
      "Dosa Ready\n",
      "Dosa Ready\n",
      "Dosa Ready\n",
      "Dosa Ready\n",
      "Dosa Ready\n",
      "Dosa Ready\n",
      "Dosa Ready\n",
      "Dosa Ready\n",
      "1\n"
     ]
    }
   ],
   "source": [
    "#Recursion\n",
    "def dosai(dosa__maavu):\n",
    "    if dosa__maavu == 1 : # Base case= 3\n",
    "        return 1\n",
    "    elif dosa__maavu >1 :\n",
    "        print(\"Dosa Ready\") \n",
    "        return dosai(dosa__maavu-1)\n",
    "p=dosai(10)\n",
    "print(p)\n"
   ]
  },
  {
   "cell_type": "code",
   "execution_count": 9,
   "id": "dcae01cc",
   "metadata": {},
   "outputs": [
    {
     "name": "stdout",
     "output_type": "stream",
     "text": [
      "24\n"
     ]
    }
   ],
   "source": [
    "#Factorial\n",
    "def fact(n):\n",
    "    if (n>1):\n",
    "        return n*fact(n-1)\n",
    "    return n\n",
    "print(fact(4))"
   ]
  },
  {
   "cell_type": "code",
   "execution_count": 10,
   "id": "181c9b9f",
   "metadata": {},
   "outputs": [
    {
     "name": "stdout",
     "output_type": "stream",
     "text": [
      "5\n"
     ]
    }
   ],
   "source": [
    "#Fibonacci Series\n",
    "'''\n",
    "f(0)=0           f(n)=f((n-1)+(n-1))\n",
    "f(1)=1\n",
    "f(2)=1+0=2\n",
    "f(3)=1+1=2\n",
    "f(4)=2+1=3\n",
    "f(5)=3+2=8\n",
    "\n",
    "\n",
    "\n",
    "'''\n",
    "\n",
    "\n",
    "def fibonacci(n):\n",
    "    a=0\n",
    "    b=1\n",
    "    if(n==0):\n",
    "        return 1\n",
    "    elif (n==0):\n",
    "        return 0\n",
    "    for i in range (2,n+1):\n",
    "        temp =a+b\n",
    "        a=b\n",
    "        b=temp\n",
    "    return b\n",
    "print(fibonacci(5))\n",
    "\n",
    "\n",
    "\n",
    "\n"
   ]
  },
  {
   "cell_type": "code",
   "execution_count": 11,
   "id": "f98e7ae9",
   "metadata": {},
   "outputs": [
    {
     "name": "stdout",
     "output_type": "stream",
     "text": [
      "21\n"
     ]
    }
   ],
   "source": [
    "def fibonacci(n):\n",
    "    if(n==0):\n",
    "        return 0\n",
    "    elif (n==1):\n",
    "        return 1\n",
    "    return fibonacci(n-1)+fibonacci(n-2)\n",
    "print(fibonacci(8))"
   ]
  },
  {
   "cell_type": "code",
   "execution_count": 12,
   "id": "85cf3132",
   "metadata": {},
   "outputs": [
    {
     "data": {
      "text/plain": [
       "10"
      ]
     },
     "execution_count": 12,
     "metadata": {},
     "output_type": "execute_result"
    }
   ],
   "source": [
    "#sum of digits\n",
    "def sum_of_digits(n):\n",
    "    sum=0\n",
    "    while(n>0):\n",
    "        sum +=n%10\n",
    "        n=n//10\n",
    "    return sum\n",
    "sum_of_digits(1234)"
   ]
  },
  {
   "cell_type": "code",
   "execution_count": 13,
   "id": "a230d3a4",
   "metadata": {},
   "outputs": [
    {
     "data": {
      "text/plain": [
       "10"
      ]
     },
     "execution_count": 13,
     "metadata": {},
     "output_type": "execute_result"
    }
   ],
   "source": [
    "#sum of digits\n",
    "\n",
    "def sum_of_digits(n):\n",
    "    if(n==0):\n",
    "        return 0\n",
    "    return (n%10)+(sum_of_digits(n//10))\n",
    "sum_of_digits(1234)"
   ]
  },
  {
   "cell_type": "code",
   "execution_count": 14,
   "id": "7e044cca",
   "metadata": {},
   "outputs": [
    {
     "name": "stdout",
     "output_type": "stream",
     "text": [
      "5\n"
     ]
    }
   ],
   "source": [
    "#Imagine you have a stack of coins.\n",
    "#You want to count how many coins are there in the stack\n",
    "#but you can remove only one at a time and remove it to a back\n",
    "#write a recursive program\n",
    "\n",
    "list1 = [1, 1, 0, 1, 1]\n",
    "\n",
    "def count_coins(stack):\n",
    "\tif not stack:\n",
    "\t\treturn 0\n",
    "\treturn 1 + count_coins(stack[1:])\n",
    "\n",
    "print(count_coins(list1))"
   ]
  },
  {
   "cell_type": "code",
   "execution_count": 15,
   "id": "c58beb9b",
   "metadata": {},
   "outputs": [
    {
     "name": "stdout",
     "output_type": "stream",
     "text": [
      "4\n"
     ]
    }
   ],
   "source": [
    "def coins(list1):\n",
    "    if not list1:\n",
    "        return 0\n",
    "    return 1+coins(list1[1:])\n",
    "list1=[1,1,1,1]\n",
    "print(coins(list1))"
   ]
  },
  {
   "cell_type": "code",
   "execution_count": 1,
   "id": "557c9eab",
   "metadata": {},
   "outputs": [
    {
     "name": "stdout",
     "output_type": "stream",
     "text": [
      "100\n"
     ]
    }
   ],
   "source": [
    "def folder_name(folder):\n",
    "    total=0\n",
    "    for key ,values in folder.items():\n",
    "        if isinstance(values,dict):\n",
    "            total+=folder_name(values) \n",
    "        else:\n",
    "            total+=values\n",
    "    return total\n",
    "\n",
    "file1={\"file1\":10,\"folder2\":{\"file2\":20,\"file3\":40},\"file4\":30}\n",
    "\n",
    "print(folder_name(file1))         "
   ]
  },
  {
   "cell_type": "code",
   "execution_count": 2,
   "id": "a08fdf76",
   "metadata": {},
   "outputs": [
    {
     "name": "stdout",
     "output_type": "stream",
     "text": [
      "[1, 2, 3]\n",
      "[1, 3, 2]\n",
      "[2, 1, 3]\n",
      "[2, 3, 1]\n",
      "[3, 1, 2]\n",
      "[3, 2, 1]\n"
     ]
    }
   ],
   "source": [
    "# Pin number\n",
    "def pin_number(path, digits, used, result):\n",
    "    if len(path) == len(digits):\n",
    "        result.append(path.copy())  # store Pin valid\n",
    "        return  # base case\n",
    "    for i in range(len(digits)):\n",
    "        if not used[i]:\n",
    "            used[i] = True\n",
    "            path.append(digits[i])\n",
    "            pin_number(path, digits, used, result)  # Backtracking\n",
    "            path.pop()\n",
    "            used[i] = False\n",
    "result = []\n",
    "digits = [1, 2, 3]\n",
    "used = [False] * len(digits)\n",
    "\n",
    "pin_number([], digits, used, result)\n",
    "\n",
    "for i in result:\n",
    "    print(i)\n",
    "\n"
   ]
  }
 ],
 "metadata": {
  "kernelspec": {
   "display_name": "Python 3",
   "language": "python",
   "name": "python3"
  },
  "language_info": {
   "codemirror_mode": {
    "name": "ipython",
    "version": 3
   },
   "file_extension": ".py",
   "mimetype": "text/x-python",
   "name": "python",
   "nbconvert_exporter": "python",
   "pygments_lexer": "ipython3",
   "version": "3.13.5"
  }
 },
 "nbformat": 4,
 "nbformat_minor": 5
}
