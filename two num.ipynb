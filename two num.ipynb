{
 "cells": [
  {
   "cell_type": "code",
   "execution_count": null,
   "id": "3683ae4f",
   "metadata": {},
   "outputs": [],
   "source": [
    "class Solution:\n",
    "    def twoSum(self, nums: list[int], target: int) -> list[int]:\n",
    "        \n",
    "        num_map = {}\n",
    "        for i, num in enumerate(nums):\n",
    "            \n",
    "            complement = target - num\n",
    "\n",
    "            \n",
    "            if complement in num_map:\n",
    "        \n",
    "                return [num_map[complement], i]\n",
    "\n",
    "            num_map[num] = i\n",
    "\n",
    "\n",
    "\n",
    "\n",
    "\n",
    "\n",
    "\n",
    "\n",
    "\n",
    "        "
   ]
  }
 ],
 "metadata": {
  "language_info": {
   "name": "python"
  }
 },
 "nbformat": 4,
 "nbformat_minor": 5
}
