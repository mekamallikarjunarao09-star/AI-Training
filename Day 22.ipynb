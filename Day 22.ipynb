{
 "cells": [
  {
   "cell_type": "code",
   "execution_count": null,
   "id": "c34638df",
   "metadata": {},
   "outputs": [],
   "source": [
    "# Day 22 "
   ]
  },
  {
   "cell_type": "code",
   "execution_count": 1,
   "id": "a9284298",
   "metadata": {},
   "outputs": [
    {
     "name": "stdout",
     "output_type": "stream",
     "text": [
      "5\n"
     ]
    }
   ],
   "source": [
    "# Assignment 5 - 6/8/2025\n",
    "\n",
    "# [Recursion Q1] – Climbing Stairs\n",
    "# Scenario:\n",
    "# You are climbing stairs. You can take 1 or 2 steps at a time.\n",
    "# How many different ways can you climb to the top of a staircase with n steps?\n",
    "# Real-life: Choosing how to climb stairs at home – small or big steps.\n",
    "# Input:\n",
    "# n = 4\n",
    "# Output:\n",
    "# 5\n",
    "# Explanation:\n",
    "# Ways = [1+1+1+1], [1+1+2], [1+2+1], [2+1+1], [2+2]\n",
    "\n",
    "\n",
    "\n",
    "\n",
    "def fib(n):\n",
    "    if n == 0 or n == 1:\n",
    "        return 1\n",
    "    return fib(n - 1) + fib(n - 2)\n",
    "\n",
    "print(fib(4))"
   ]
  },
  {
   "cell_type": "code",
   "execution_count": 2,
   "id": "78364104",
   "metadata": {},
   "outputs": [
    {
     "name": "stdout",
     "output_type": "stream",
     "text": [
      "Path 1: R -> R -> D -> D\n",
      "Path 2: D -> D -> R -> R\n"
     ]
    }
   ],
   "source": [
    "# Q2. Maze Path Finder (Recursion + Backtracking)\n",
    "# Scenario:\n",
    "# You are designing a robot for a warehouse. The robot starts at the top-left corner of a grid and must reach the bottom-right corner. It can only move down or right, and some cells have obstacles.\n",
    "# Task:\n",
    "# Given a grid with 0 (free) and 1 (obstacle), find all possible paths from start to end using recursion and backtracking.\n",
    "# Tags: Recursion, grid traversal, real-time path planning\n",
    "\n",
    "\n",
    "\n",
    "def find(grid):\n",
    "    rows, cols = len(grid), len(grid[0])\n",
    "    result = []\n",
    "\n",
    "    def backtrack(r, c, path):\n",
    "        if r >= rows or c >= cols or grid[r][c] == 1:\n",
    "            return\n",
    "\n",
    "        if r == rows - 1 and c == cols - 1:\n",
    "            result.append(path.copy())\n",
    "            return\n",
    "\n",
    "        path.append(\"R\")\n",
    "        backtrack(r, c + 1, path)\n",
    "        path.pop()\n",
    "\n",
    "        path.append(\"D\")\n",
    "        backtrack(r + 1, c, path)\n",
    "        path.pop()\n",
    "\n",
    "    backtrack(0, 0, [])\n",
    "    return result\n",
    "\n",
    "grid = [\n",
    "    [0, 0, 0],\n",
    "    [0, 1, 0],\n",
    "    [0, 0, 0]\n",
    "]\n",
    "\n",
    "paths = find(grid)\n",
    "for i, p in enumerate(paths, 1):\n",
    "    print(f\"Path {i}: {' -> '.join(p)}\")\n"
   ]
  },
  {
   "cell_type": "code",
   "execution_count": 4,
   "id": "b82caa7e",
   "metadata": {},
   "outputs": [
    {
     "name": "stdout",
     "output_type": "stream",
     "text": [
      "Combo 1: [200, 200, 150, 150]\n",
      "Combo 2: [200, 250, 250]\n",
      "Combo 3: [250, 150, 150, 150]\n"
     ]
    }
   ],
   "source": [
    "#  Q3. Menu Combinations for Calories (Backtracking)\n",
    "# Scenario:\n",
    "# A restaurant wants to find all combinations of dishes that sum up to exactly 700 calories for diet plans. Each dish has a calorie value, and dishes can be repeated.\n",
    "# Task:\n",
    "# Given a list of dish calorie values, and a target, find all combinations where dishes sum to target calories.\n",
    "# Example:\n",
    "# dishes = [200, 250, 150]\n",
    "# target = 700\n",
    "# Tags: Backtracking, combination sum, menu planning    \n",
    "\n",
    "\n",
    "def find(dishes, target):\n",
    "    result = []\n",
    "\n",
    "    def backtrack(start, path, total):\n",
    "        if total == target:\n",
    "            result.append(path.copy())\n",
    "            return\n",
    "        if total > target:\n",
    "            return\n",
    "\n",
    "        for i in range(start, len(dishes)):\n",
    "            path.append(dishes[i])\n",
    "            backtrack(i, path, total + dishes[i])  # i, not i+1 (dishes can repeat)\n",
    "            path.pop()\n",
    "\n",
    "    backtrack(0, [], 0)\n",
    "    return result\n",
    "\n",
    "# Example usage\n",
    "dishes = [200, 250, 150]\n",
    "target = 700\n",
    "\n",
    "combinations = find(dishes, target)\n",
    "for i, combo in enumerate(combinations, 1):\n",
    "    print(f\"Combo {i}: {combo}\")"
   ]
  },
  {
   "cell_type": "code",
   "execution_count": null,
   "id": "41308dbb",
   "metadata": {},
   "outputs": [
    {
     "name": "stdout",
     "output_type": "stream",
     "text": [
      "['ad', 'ae', 'af', 'bd', 'be', 'bf', 'cd', 'ce', 'cf']\n"
     ]
    }
   ],
   "source": [
    "# Q4. Phone Number to Words (Recursion + Backtracking)\n",
    "# Scenario:\n",
    "# You're building a contact suggestion system. Given a digit sequence like on a dialpad (2 → abc, 3 → def, etc.), generate all valid letter combinations.\n",
    "# Task:\n",
    "# Input: \"23\"\n",
    "# Output: [\"ad\", \"ae\", \"af\", \"bd\", \"be\", \"bf\", \"cd\", \"ce\", \"cf\"]\n",
    "# Tags: Recursion, backtracking, predictive text\n",
    "\n",
    "\n",
    "\n",
    "def phone(digits):\n",
    "    if not digits:\n",
    "        return []\n",
    "\n",
    "    digit= {\n",
    "        \"2\": \"abc\", \"3\": \"def\",\n",
    "        \"4\": \"ghi\", \"5\": \"jkl\",\n",
    "        \"6\": \"mno\", \"7\": \"pqrs\",\n",
    "        \"8\": \"tuv\", \"9\": \"wxyz\"\n",
    "    }\n",
    "\n",
    "    result = []\n",
    "\n",
    "    def backtrack(index, path):\n",
    "        if index == len(digits):\n",
    "            result.append(\"\".join(path))\n",
    "            return\n",
    "\n",
    "        for letter in digit[digits[index]]:\n",
    "            path.append(letter)\n",
    "            backtrack(index + 1, path)\n",
    "            path.pop()\n",
    "\n",
    "    backtrack(0, [])\n",
    "    return result\n",
    "print(phone(\"23\"))"
   ]
  },
  {
   "cell_type": "code",
   "execution_count": 2,
   "id": "33fd3e5c",
   "metadata": {},
   "outputs": [
    {
     "name": "stdout",
     "output_type": "stream",
     "text": [
      "DDRR\n",
      "RRDD\n"
     ]
    }
   ],
   "source": [
    "def find(x,y,path):\n",
    "    if x == 2 and y == 2:\n",
    "        print(path)\n",
    "        return\n",
    "    if x+ 1 <=2 and grid[x+1][y] == 0:\n",
    "        find(x+1,y,path+\"D\")\n",
    "    if y+ 1 <=2 and grid[x][y+1] == 0:\n",
    "        find(x,y+1,path +\"R\")\n",
    "\n",
    "grid =[\n",
    "    [0,0,0],\n",
    "    [0,1,0,],\n",
    "    [0,0,0,]\n",
    "]\n",
    "find(0,0,\"\")"
   ]
  },
  {
   "cell_type": "code",
   "execution_count": null,
   "id": "4ba1aeca",
   "metadata": {},
   "outputs": [],
   "source": [
    "# tree\n",
    "\n",
    "# root -  a top node    \n",
    "# child - a node that comes from the parent\n",
    "# parent -which node having a child that is a parent\n",
    "# leaf node - the node which doesnot have childrens \n"
   ]
  },
  {
   "cell_type": "code",
   "execution_count": null,
   "id": "5323a806",
   "metadata": {},
   "outputs": [
    {
     "ename": "AttributeError",
     "evalue": "'list' object has no attribute 'val'",
     "output_type": "error",
     "traceback": [
      "\u001b[31m---------------------------------------------------------------------------\u001b[39m",
      "\u001b[31mAttributeError\u001b[39m                            Traceback (most recent call last)",
      "\u001b[36mCell\u001b[39m\u001b[36m \u001b[39m\u001b[32mIn[3]\u001b[39m\u001b[32m, line 26\u001b[39m\n\u001b[32m     24\u001b[39m     \u001b[38;5;28;01mfor\u001b[39;00m child \u001b[38;5;129;01min\u001b[39;00m node.children:\n\u001b[32m     25\u001b[39m         traverse(child,level+\u001b[32m1\u001b[39m)\n\u001b[32m---> \u001b[39m\u001b[32m26\u001b[39m \u001b[43mtraverse\u001b[49m\u001b[43m(\u001b[49m\u001b[43mceo\u001b[49m\u001b[43m)\u001b[49m\n",
      "\u001b[36mCell\u001b[39m\u001b[36m \u001b[39m\u001b[32mIn[3]\u001b[39m\u001b[32m, line 23\u001b[39m, in \u001b[36mtraverse\u001b[39m\u001b[34m(node, level)\u001b[39m\n\u001b[32m     22\u001b[39m \u001b[38;5;28;01mdef\u001b[39;00m\u001b[38;5;250m \u001b[39m\u001b[34mtraverse\u001b[39m(node,level = \u001b[32m0\u001b[39m):\n\u001b[32m---> \u001b[39m\u001b[32m23\u001b[39m     \u001b[38;5;28mprint\u001b[39m(\u001b[33m\"\u001b[39m\u001b[33m\"\u001b[39m*level+\u001b[43mnode\u001b[49m\u001b[43m.\u001b[49m\u001b[43mval\u001b[49m)\n\u001b[32m     24\u001b[39m     \u001b[38;5;28;01mfor\u001b[39;00m child \u001b[38;5;129;01min\u001b[39;00m node.children:\n\u001b[32m     25\u001b[39m         traverse(child,level+\u001b[32m1\u001b[39m)\n",
      "\u001b[31mAttributeError\u001b[39m: 'list' object has no attribute 'val'"
     ]
    }
   ],
   "source": [
    "\n",
    "#tree implementation \n",
    "\n",
    "class treenode():\n",
    "    def __init__(self,val):\n",
    "        self.val = val\n",
    "        self.children = []\n",
    "ceo = treenode(\"CEO\")\n",
    "cfo = treenode(\"CFO\")\n",
    "cto = treenode(\"CTO\")\n",
    "coo = treenode(\"COO\")\n",
    "qa = treenode(\"QA\")\n",
    "dev = treenode(\"DEV\")\n",
    "ops = treenode(\"ops\")\n",
    "\n",
    "#making parent and child class\n",
    "ceo = [cfo,cto,coo]\n",
    "cto = [qa,dev]\n",
    "coo = [ops]\n",
    "\n",
    "#traversng\n",
    "\n",
    "def traverse(node,level = 0):\n",
    "    print(\"\"*level+node.val)\n",
    "    for child in node.children:\n",
    "        traverse(child,level+1)\n",
    "traverse(ceo)"
   ]
  },
  {
   "cell_type": "code",
   "execution_count": null,
   "id": "0c627f58",
   "metadata": {},
   "outputs": [
    {
     "name": "stdout",
     "output_type": "stream",
     "text": [
      "        40\n",
      "    30\n",
      "        25\n",
      "20\n",
      "        18\n",
      "    10\n",
      "        5\n"
     ]
    }
   ],
   "source": [
    "class Node():\n",
    "    def __init__(self, val):\n",
    "        self.val = val\n",
    "        self.left = None\n",
    "        self.right = None\n",
    "\n",
    "# Insertion\n",
    "def insert(root, val):\n",
    "    if root is None:\n",
    "        return Node(val)\n",
    "    if val < root.val:\n",
    "        root.left = insert(root.left, val)\n",
    "    else:\n",
    "        root.right = insert(root.right, val)\n",
    "    return root\n",
    "def print_tree(Node, level=0):\n",
    "    if Node is not None:\n",
    "        print_tree(Node.right, level + 1)\n",
    "        print(\"    \" * level + str(Node.val))\n",
    "        print_tree(Node.left, level + 1)\n",
    "val = [20, 10, 30, 40, 25, 18, 5]\n",
    "root = None\n",
    "for v in val:\n",
    "    root = insert(root, v)\n",
    "\n",
    "print_tree(root)\n"
   ]
  },
  {
   "cell_type": "code",
   "execution_count": 12,
   "id": "8a934a12",
   "metadata": {},
   "outputs": [
    {
     "name": "stdout",
     "output_type": "stream",
     "text": [
      "   40\n",
      "  30\n",
      "   25\n",
      " 20\n",
      "   18\n",
      "  10\n",
      "   5\n",
      "Inorder Traversal\n",
      "5 10 18 20 25 30 40 \n",
      "\n",
      "preorder Traversal\n",
      "20 10 5 18 30 25 40 \n",
      "\n",
      "postorder Traversal\n",
      "5 18 10 25 40 30 20 \n",
      "\n"
     ]
    }
   ],
   "source": [
    "class Node():\n",
    "    def __init__(self,val):\n",
    "        self.val = val\n",
    "        self.left=None\n",
    "        self.right=None\n",
    "#insertion\n",
    "def insert(root,val):\n",
    "    if root is None:\n",
    "        return Node(val)\n",
    "    if val < root.val:\n",
    "        root.left = insert(root.left,val)\n",
    "    else:\n",
    "        root.right = insert(root.right , val)\n",
    "    return root\n",
    "#inorder\n",
    "def inorder(root):\n",
    "    if root:\n",
    "        inorder(root.left)\n",
    "        print(root.val,end=\" \")\n",
    "        inorder(root.right)\n",
    "\n",
    "# Preorder (root -> left -> right)\n",
    "def preorder(root):\n",
    "    if root:\n",
    "        print(root.val,end=\" \")\n",
    "        preorder(root.left)\n",
    "        preorder(root.right)\n",
    "# Postorder (left -> right -> root)\n",
    "def postorder(root):\n",
    "    if root:\n",
    "        postorder(root.left)\n",
    "        postorder(root.right)\n",
    "        print(root.val,end=\" \")\n",
    "\n",
    "def print_tree(Node, level=0):\n",
    "    if Node is not None:\n",
    "        print_tree(Node.right,level+1)\n",
    "        print(\" \"*level,Node.val)\n",
    "        print_tree(Node.left,level+1)\n",
    "\n",
    "val = [20,10,30,40,25,18,5]\n",
    "root = None\n",
    "for v in val:\n",
    "    root = insert(root,v) \n",
    "print_tree(root)\n",
    "print(\"Inorder Traversal\")\n",
    "inorder(root)\n",
    "print(\"\\n\")\n",
    "print(\"preorder Traversal\")\n",
    "preorder (root)\n",
    "print(\"\\n\")\n",
    "print(\"postorder Traversal\")\n",
    "postorder (root)\n",
    "print(\"\\n\")"
   ]
  },
  {
   "cell_type": "code",
   "execution_count": null,
   "id": "c2ace8b0",
   "metadata": {},
   "outputs": [],
   "source": []
  }
 ],
 "metadata": {
  "kernelspec": {
   "display_name": "Python 3",
   "language": "python",
   "name": "python3"
  },
  "language_info": {
   "codemirror_mode": {
    "name": "ipython",
    "version": 3
   },
   "file_extension": ".py",
   "mimetype": "text/x-python",
   "name": "python",
   "nbconvert_exporter": "python",
   "pygments_lexer": "ipython3",
   "version": "3.13.5"
  }
 },
 "nbformat": 4,
 "nbformat_minor": 5
}
